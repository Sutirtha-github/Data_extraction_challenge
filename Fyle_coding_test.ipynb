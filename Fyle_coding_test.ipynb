{
  "nbformat": 4,
  "nbformat_minor": 0,
  "metadata": {
    "colab": {
      "name": "Fyle-coding-test.ipynb",
      "provenance": []
    },
    "kernelspec": {
      "name": "python3",
      "display_name": "Python 3"
    },
    "language_info": {
      "name": "python"
    }
  },
  "cells": [
    {
      "cell_type": "code",
      "metadata": {
        "colab": {
          "base_uri": "https://localhost:8080/"
        },
        "id": "D8AJA9jfrRqt",
        "outputId": "96aa0616-a898-4a5b-8b1b-4bad4f283cae"
      },
      "source": [
        "!git clone https://github.com/fylein/fyle-interview-de-intern"
      ],
      "execution_count": null,
      "outputs": [
        {
          "output_type": "stream",
          "name": "stdout",
          "text": [
            "Cloning into 'fyle-interview-de-intern'...\n",
            "remote: Enumerating objects: 271, done.\u001b[K\n",
            "remote: Counting objects: 100% (271/271), done.\u001b[K\n",
            "remote: Compressing objects: 100% (178/178), done.\u001b[K\n",
            "remote: Total 271 (delta 112), reused 223 (delta 68), pack-reused 0\u001b[K\n",
            "Receiving objects: 100% (271/271), 7.16 MiB | 7.29 MiB/s, done.\n",
            "Resolving deltas: 100% (112/112), done.\n"
          ]
        }
      ]
    },
    {
      "cell_type": "code",
      "metadata": {
        "colab": {
          "base_uri": "https://localhost:8080/"
        },
        "id": "P7FLFzyQr3bw",
        "outputId": "5f0e57d9-f9ce-4e47-9cfa-88c08bd9af20"
      },
      "source": [
        "%cd /content/fyle-interview-de-intern"
      ],
      "execution_count": null,
      "outputs": [
        {
          "output_type": "stream",
          "name": "stdout",
          "text": [
            "/content/fyle-interview-de-intern\n"
          ]
        }
      ]
    },
    {
      "cell_type": "code",
      "metadata": {
        "colab": {
          "base_uri": "https://localhost:8080/"
        },
        "id": "LCL4kWdyr3YP",
        "outputId": "d23e1b76-2b1b-46a1-8cf4-9b46f2889d4b"
      },
      "source": [
        "    pip install -r requirements.txt\n"
      ],
      "execution_count": null,
      "outputs": [
        {
          "output_type": "stream",
          "name": "stdout",
          "text": [
            "Collecting pytest==6.2.4\n",
            "  Downloading pytest-6.2.4-py3-none-any.whl (280 kB)\n",
            "\u001b[K     |████████████████████████████████| 280 kB 4.0 MB/s \n",
            "\u001b[?25hCollecting pylint==2.10.2\n",
            "  Downloading pylint-2.10.2-py3-none-any.whl (392 kB)\n",
            "\u001b[K     |████████████████████████████████| 392 kB 40.5 MB/s \n",
            "\u001b[?25hRequirement already satisfied: iniconfig in /usr/local/lib/python3.7/dist-packages (from pytest==6.2.4->-r requirements.txt (line 1)) (1.1.1)\n",
            "Requirement already satisfied: py>=1.8.2 in /usr/local/lib/python3.7/dist-packages (from pytest==6.2.4->-r requirements.txt (line 1)) (1.10.0)\n",
            "Requirement already satisfied: attrs>=19.2.0 in /usr/local/lib/python3.7/dist-packages (from pytest==6.2.4->-r requirements.txt (line 1)) (21.2.0)\n",
            "Requirement already satisfied: importlib-metadata>=0.12 in /usr/local/lib/python3.7/dist-packages (from pytest==6.2.4->-r requirements.txt (line 1)) (4.6.4)\n",
            "Collecting pluggy<1.0.0a1,>=0.12\n",
            "  Downloading pluggy-0.13.1-py2.py3-none-any.whl (18 kB)\n",
            "Requirement already satisfied: packaging in /usr/local/lib/python3.7/dist-packages (from pytest==6.2.4->-r requirements.txt (line 1)) (21.0)\n",
            "Requirement already satisfied: toml in /usr/local/lib/python3.7/dist-packages (from pytest==6.2.4->-r requirements.txt (line 1)) (0.10.2)\n",
            "Collecting astroid<2.8,>=2.7.2\n",
            "  Downloading astroid-2.7.3-py3-none-any.whl (240 kB)\n",
            "\u001b[K     |████████████████████████████████| 240 kB 48.2 MB/s \n",
            "\u001b[?25hCollecting isort<6,>=4.2.5\n",
            "  Downloading isort-5.9.3-py3-none-any.whl (106 kB)\n",
            "\u001b[K     |████████████████████████████████| 106 kB 64.1 MB/s \n",
            "\u001b[?25hCollecting mccabe<0.7,>=0.6\n",
            "  Downloading mccabe-0.6.1-py2.py3-none-any.whl (8.6 kB)\n",
            "Collecting platformdirs>=2.2.0\n",
            "  Downloading platformdirs-2.3.0-py3-none-any.whl (13 kB)\n",
            "Requirement already satisfied: wrapt<1.13,>=1.11 in /usr/local/lib/python3.7/dist-packages (from astroid<2.8,>=2.7.2->pylint==2.10.2->-r requirements.txt (line 2)) (1.12.1)\n",
            "Collecting lazy-object-proxy>=1.4.0\n",
            "  Downloading lazy_object_proxy-1.6.0-cp37-cp37m-manylinux1_x86_64.whl (55 kB)\n",
            "\u001b[K     |████████████████████████████████| 55 kB 3.4 MB/s \n",
            "\u001b[?25hCollecting typed-ast<1.5,>=1.4.0\n",
            "  Downloading typed_ast-1.4.3-cp37-cp37m-manylinux1_x86_64.whl (743 kB)\n",
            "\u001b[K     |████████████████████████████████| 743 kB 48.8 MB/s \n",
            "\u001b[?25hRequirement already satisfied: setuptools>=20.0 in /usr/local/lib/python3.7/dist-packages (from astroid<2.8,>=2.7.2->pylint==2.10.2->-r requirements.txt (line 2)) (57.4.0)\n",
            "Requirement already satisfied: typing-extensions>=3.7.4 in /usr/local/lib/python3.7/dist-packages (from astroid<2.8,>=2.7.2->pylint==2.10.2->-r requirements.txt (line 2)) (3.7.4.3)\n",
            "Requirement already satisfied: zipp>=0.5 in /usr/local/lib/python3.7/dist-packages (from importlib-metadata>=0.12->pytest==6.2.4->-r requirements.txt (line 1)) (3.5.0)\n",
            "Requirement already satisfied: pyparsing>=2.0.2 in /usr/local/lib/python3.7/dist-packages (from packaging->pytest==6.2.4->-r requirements.txt (line 1)) (2.4.7)\n",
            "Installing collected packages: typed-ast, lazy-object-proxy, pluggy, platformdirs, mccabe, isort, astroid, pytest, pylint\n",
            "  Attempting uninstall: pluggy\n",
            "    Found existing installation: pluggy 0.7.1\n",
            "    Uninstalling pluggy-0.7.1:\n",
            "      Successfully uninstalled pluggy-0.7.1\n",
            "  Attempting uninstall: pytest\n",
            "    Found existing installation: pytest 3.6.4\n",
            "    Uninstalling pytest-3.6.4:\n",
            "      Successfully uninstalled pytest-3.6.4\n",
            "\u001b[31mERROR: pip's dependency resolver does not currently take into account all the packages that are installed. This behaviour is the source of the following dependency conflicts.\n",
            "datascience 0.10.6 requires folium==0.2.1, but you have folium 0.8.3 which is incompatible.\u001b[0m\n",
            "Successfully installed astroid-2.7.3 isort-5.9.3 lazy-object-proxy-1.6.0 mccabe-0.6.1 platformdirs-2.3.0 pluggy-0.13.1 pylint-2.10.2 pytest-6.2.4 typed-ast-1.4.3\n"
          ]
        }
      ]
    },
    {
      "cell_type": "code",
      "metadata": {
        "colab": {
          "base_uri": "https://localhost:8080/"
        },
        "id": "yjWl8cf2r3WM",
        "outputId": "06154313-81e0-4eae-f13f-465a6c75bc14"
      },
      "source": [
        "!python -m pytest\n",
        "\n"
      ],
      "execution_count": null,
      "outputs": [
        {
          "output_type": "stream",
          "name": "stdout",
          "text": [
            "\u001b[1m============================= test session starts ==============================\u001b[0m\n",
            "platform linux -- Python 3.7.11, pytest-6.2.4, py-1.10.0, pluggy-0.13.1\n",
            "rootdir: /content/fyle-interview-de-intern, configfile: pytest.ini\n",
            "plugins: typeguard-2.7.1\n",
            "collected 20 items                                                             \u001b[0m\n",
            "\n",
            "test_extract.py::test_extract[./data/receipt16] \n",
            "\u001b[1m-------------------------------- live log call ---------------------------------\u001b[0m\n",
            "2021-09-07 06:04:17 [\u001b[32m    INFO\u001b[0m] extract: extract_amount called for dir ./data/receipt16 (extract.py:22)\n",
            "\u001b[32mPASSED\u001b[0m\u001b[32m                                                                   [  5%]\u001b[0m\n",
            "test_extract.py::test_extract[./data/receipt19] \n",
            "\u001b[1m-------------------------------- live log call ---------------------------------\u001b[0m\n",
            "2021-09-07 06:04:17 [\u001b[32m    INFO\u001b[0m] extract: extract_amount called for dir ./data/receipt19 (extract.py:22)\n",
            "\u001b[32mPASSED\u001b[0m\u001b[32m                                                                   [ 10%]\u001b[0m\n",
            "test_extract.py::test_extract[./data/receipt10] \n",
            "\u001b[1m-------------------------------- live log call ---------------------------------\u001b[0m\n",
            "2021-09-07 06:04:17 [\u001b[32m    INFO\u001b[0m] extract: extract_amount called for dir ./data/receipt10 (extract.py:22)\n",
            "\u001b[32mPASSED\u001b[0m\u001b[32m                                                                   [ 15%]\u001b[0m\n",
            "test_extract.py::test_extract[./data/receipt14] \n",
            "\u001b[1m-------------------------------- live log call ---------------------------------\u001b[0m\n",
            "2021-09-07 06:04:17 [\u001b[32m    INFO\u001b[0m] extract: extract_amount called for dir ./data/receipt14 (extract.py:22)\n",
            "\u001b[32mPASSED\u001b[0m\u001b[32m                                                                   [ 20%]\u001b[0m\n",
            "test_extract.py::test_extract[./data/receipt18] \n",
            "\u001b[1m-------------------------------- live log call ---------------------------------\u001b[0m\n",
            "2021-09-07 06:04:17 [\u001b[32m    INFO\u001b[0m] extract: extract_amount called for dir ./data/receipt18 (extract.py:22)\n",
            "\u001b[32mPASSED\u001b[0m\u001b[32m                                                                   [ 25%]\u001b[0m\n",
            "test_extract.py::test_extract[./data/receipt11] \n",
            "\u001b[1m-------------------------------- live log call ---------------------------------\u001b[0m\n",
            "2021-09-07 06:04:17 [\u001b[32m    INFO\u001b[0m] extract: extract_amount called for dir ./data/receipt11 (extract.py:22)\n",
            "\u001b[32mPASSED\u001b[0m\u001b[32m                                                                   [ 30%]\u001b[0m\n",
            "test_extract.py::test_extract[./data/receipt20] \n",
            "\u001b[1m-------------------------------- live log call ---------------------------------\u001b[0m\n",
            "2021-09-07 06:04:17 [\u001b[32m    INFO\u001b[0m] extract: extract_amount called for dir ./data/receipt20 (extract.py:22)\n",
            "\u001b[32mPASSED\u001b[0m\u001b[32m                                                                   [ 35%]\u001b[0m\n",
            "test_extract.py::test_extract[./data/receipt4] \n",
            "\u001b[1m-------------------------------- live log call ---------------------------------\u001b[0m\n",
            "2021-09-07 06:04:17 [\u001b[32m    INFO\u001b[0m] extract: extract_amount called for dir ./data/receipt4 (extract.py:22)\n",
            "\u001b[32mPASSED\u001b[0m\u001b[32m                                                                   [ 40%]\u001b[0m\n",
            "test_extract.py::test_extract[./data/receipt5] \n",
            "\u001b[1m-------------------------------- live log call ---------------------------------\u001b[0m\n",
            "2021-09-07 06:04:17 [\u001b[32m    INFO\u001b[0m] extract: extract_amount called for dir ./data/receipt5 (extract.py:22)\n",
            "\u001b[32mPASSED\u001b[0m\u001b[32m                                                                   [ 45%]\u001b[0m\n",
            "test_extract.py::test_extract[./data/receipt1] \n",
            "\u001b[1m-------------------------------- live log call ---------------------------------\u001b[0m\n",
            "2021-09-07 06:04:17 [\u001b[32m    INFO\u001b[0m] extract: extract_amount called for dir ./data/receipt1 (extract.py:22)\n",
            "\u001b[32mPASSED\u001b[0m\u001b[32m                                                                   [ 50%]\u001b[0m\n",
            "test_extract.py::test_extract[./data/receipt3] \n",
            "\u001b[1m-------------------------------- live log call ---------------------------------\u001b[0m\n",
            "2021-09-07 06:04:17 [\u001b[32m    INFO\u001b[0m] extract: extract_amount called for dir ./data/receipt3 (extract.py:22)\n",
            "\u001b[32mPASSED\u001b[0m\u001b[32m                                                                   [ 55%]\u001b[0m\n",
            "test_extract.py::test_extract[./data/receipt13] \n",
            "\u001b[1m-------------------------------- live log call ---------------------------------\u001b[0m\n",
            "2021-09-07 06:04:17 [\u001b[32m    INFO\u001b[0m] extract: extract_amount called for dir ./data/receipt13 (extract.py:22)\n",
            "\u001b[32mPASSED\u001b[0m\u001b[32m                                                                   [ 60%]\u001b[0m\n",
            "test_extract.py::test_extract[./data/receipt7] \n",
            "\u001b[1m-------------------------------- live log call ---------------------------------\u001b[0m\n",
            "2021-09-07 06:04:17 [\u001b[32m    INFO\u001b[0m] extract: extract_amount called for dir ./data/receipt7 (extract.py:22)\n",
            "\u001b[32mPASSED\u001b[0m\u001b[32m                                                                   [ 65%]\u001b[0m\n",
            "test_extract.py::test_extract[./data/receipt8] \n",
            "\u001b[1m-------------------------------- live log call ---------------------------------\u001b[0m\n",
            "2021-09-07 06:04:17 [\u001b[32m    INFO\u001b[0m] extract: extract_amount called for dir ./data/receipt8 (extract.py:22)\n",
            "\u001b[32mPASSED\u001b[0m\u001b[32m                                                                   [ 70%]\u001b[0m\n",
            "test_extract.py::test_extract[./data/receipt6] \n",
            "\u001b[1m-------------------------------- live log call ---------------------------------\u001b[0m\n",
            "2021-09-07 06:04:17 [\u001b[32m    INFO\u001b[0m] extract: extract_amount called for dir ./data/receipt6 (extract.py:22)\n",
            "\u001b[32mPASSED\u001b[0m\u001b[32m                                                                   [ 75%]\u001b[0m\n",
            "test_extract.py::test_extract[./data/receipt2] \n",
            "\u001b[1m-------------------------------- live log call ---------------------------------\u001b[0m\n",
            "2021-09-07 06:04:17 [\u001b[32m    INFO\u001b[0m] extract: extract_amount called for dir ./data/receipt2 (extract.py:22)\n",
            "\u001b[32mPASSED\u001b[0m\u001b[32m                                                                   [ 80%]\u001b[0m\n",
            "test_extract.py::test_extract[./data/receipt12] \n",
            "\u001b[1m-------------------------------- live log call ---------------------------------\u001b[0m\n",
            "2021-09-07 06:04:17 [\u001b[32m    INFO\u001b[0m] extract: extract_amount called for dir ./data/receipt12 (extract.py:22)\n",
            "\u001b[32mPASSED\u001b[0m\u001b[32m                                                                   [ 85%]\u001b[0m\n",
            "test_extract.py::test_extract[./data/receipt9] \n",
            "\u001b[1m-------------------------------- live log call ---------------------------------\u001b[0m\n",
            "2021-09-07 06:04:17 [\u001b[32m    INFO\u001b[0m] extract: extract_amount called for dir ./data/receipt9 (extract.py:22)\n",
            "\u001b[32mPASSED\u001b[0m\u001b[32m                                                                   [ 90%]\u001b[0m\n",
            "test_extract.py::test_extract[./data/receipt17] \n",
            "\u001b[1m-------------------------------- live log call ---------------------------------\u001b[0m\n",
            "2021-09-07 06:04:17 [\u001b[32m    INFO\u001b[0m] extract: extract_amount called for dir ./data/receipt17 (extract.py:22)\n",
            "\u001b[32mPASSED\u001b[0m\u001b[32m                                                                   [ 95%]\u001b[0m\n",
            "test_extract.py::test_extract[./data/receipt15] \n",
            "\u001b[1m-------------------------------- live log call ---------------------------------\u001b[0m\n",
            "2021-09-07 06:04:17 [\u001b[32m    INFO\u001b[0m] extract: extract_amount called for dir ./data/receipt15 (extract.py:22)\n",
            "\u001b[32mPASSED\u001b[0m\u001b[32m                                                                   [100%]\u001b[0m\n",
            "\n",
            "\u001b[32m============================== \u001b[32m\u001b[1m20 passed\u001b[0m\u001b[32m in 0.25s\u001b[0m\u001b[32m ==============================\u001b[0m\n"
          ]
        }
      ]
    },
    {
      "cell_type": "code",
      "metadata": {
        "id": "cMvHWiVPr3UM",
        "colab": {
          "base_uri": "https://localhost:8080/"
        },
        "outputId": "a078f65d-36d9-456c-e5ce-8a97f7414b2c"
      },
      "source": [
        "!pylint extract.py\n"
      ],
      "execution_count": 25,
      "outputs": [
        {
          "output_type": "stream",
          "name": "stdout",
          "text": [
            "************* Module extract\n",
            "extract.py:35:63: C0303: Trailing whitespace (trailing-whitespace)\n",
            "extract.py:58:0: C0303: Trailing whitespace (trailing-whitespace)\n",
            "extract.py:20:0: R0914: Too many local variables (19/15) (too-many-locals)\n",
            "extract.py:20:0: R0912: Too many branches (14/12) (too-many-branches)\n",
            "\n",
            "------------------------------------------------------------------\n",
            "Your code has been rated at 9.07/10 (previous run: 9.07/10, +0.00)\n",
            "\n"
          ]
        }
      ]
    },
    {
      "cell_type": "code",
      "metadata": {
        "id": "q5bL9bVv5R3O"
      },
      "source": [
        ""
      ],
      "execution_count": null,
      "outputs": []
    }
  ]
}